{
  "cells": [
    {
      "cell_type": "code",
      "source": [
        "!pip install -q -U google-generativeai"
      ],
      "metadata": {
        "id": "F4-hxOh0qX2z"
      },
      "execution_count": 15,
      "outputs": []
    },
    {
      "cell_type": "code",
      "execution_count": 16,
      "metadata": {
        "id": "HTiaTu6O1LRC"
      },
      "outputs": [],
      "source": [
        "# Import the Python SDK\n",
        "import google.generativeai as genai\n",
        "# Used to securely store your API key\n",
        "from google.colab import userdata\n",
        "\n",
        "GOOGLE_API_KEY=userdata.get('GOOGLE_API_KEY')\n",
        "genai.configure(api_key=GOOGLE_API_KEY)"
      ]
    },
    {
      "cell_type": "markdown",
      "metadata": {
        "id": "CZPYk29o2No0"
      },
      "source": [
        "## Initialize the Generative Model\n",
        "\n",
        "Before you can make any API calls, you need to initialize the Generative Model."
      ]
    },
    {
      "cell_type": "code",
      "execution_count": 17,
      "metadata": {
        "id": "s-JqXcDe2hZ_"
      },
      "outputs": [],
      "source": [
        "model = genai.GenerativeModel('gemini-pro')"
      ]
    },
    {
      "cell_type": "markdown",
      "metadata": {
        "id": "nXxypzJH4MUl"
      },
      "source": [
        "## Generate text"
      ]
    },
    {
      "cell_type": "code",
      "execution_count": 19,
      "metadata": {
        "id": "j51mcrLD4Y2W",
        "colab": {
          "base_uri": "https://localhost:8080/",
          "height": 1000
        },
        "outputId": "97aef21f-4b60-44e6-8c7b-d9f254e6dca3"
      },
      "outputs": [
        {
          "output_type": "stream",
          "name": "stdout",
          "text": [
            "**Colleges and Branches of Engineering Available with a Cut-Off of 180**\n",
            "\n",
            "**Government Colleges:**\n",
            "\n",
            "* **Anna University, Chennai:**\n",
            "    * Computer Science and Engineering\n",
            "    * Information Technology\n",
            "    * Electrical and Electronics Engineering\n",
            "    * Mechanical Engineering\n",
            "    * Civil Engineering\n",
            "\n",
            "* **PSG College of Technology, Coimbatore:**\n",
            "    * Computer Science and Engineering\n",
            "    * Electronics and Communication Engineering\n",
            "    * Mechanical Engineering\n",
            "\n",
            "* **Thiagarajar College of Engineering, Madurai:**\n",
            "    * Computer Science and Engineering\n",
            "    * Electronics and Communication Engineering\n",
            "    * Mechanical Engineering\n",
            "\n",
            "**Government Aided Colleges:**\n",
            "\n",
            "* **Bharathiar University, Coimbatore:**\n",
            "    * Computer Science and Engineering\n",
            "    * Information Technology\n",
            "    * Electrical and Electronics Engineering\n",
            "\n",
            "* **Dr. M.G.R. Educational and Research Institute, Chennai:**\n",
            "    * Computer Science and Engineering\n",
            "    * Electronics and Communication Engineering\n",
            "\n",
            "* **Sri Krishna College of Technology, Coimbatore:**\n",
            "    * Computer Science and Engineering\n",
            "    * Electronics and Communication Engineering\n",
            "\n",
            "**Private Colleges:**\n",
            "\n",
            "* **SRM University, Chennai:**\n",
            "    * Computer Science and Engineering\n",
            "    * Information Technology\n",
            "    * Electrical and Electronics Engineering\n",
            "    * Mechanical Engineering\n",
            "\n",
            "* **VIT University, Vellore:**\n",
            "    * Computer Science and Engineering\n",
            "    * Electronics and Communication Engineering\n",
            "    * Mechanical Engineering\n",
            "\n",
            "* **Amrita University, Coimbatore:**\n",
            "    * Computer Science and Engineering\n",
            "    * Electronics and Communication Engineering\n",
            "\n",
            "**Other Considerations:**\n",
            "\n",
            "* If you have a specific interest in a particular branch of engineering, research specific colleges and their strengths in that area.\n",
            "* Consider the location and infrastructure of the college.\n",
            "* Explore the placement records and industry collaborations of the college.\n",
            "* Attend college open houses and interact with faculty and students.\n"
          ]
        }
      ],
      "source": [
        "response = model.generate_content(\"I HAVE RECENTELY COMPLETED MY SCHOOLING IN 2024 WITH A 12TH CUTOFF OF 180 IN TAMILNADU MY QUESTION IS WHICH BRANCH OF ENGINEERING CAN I SELECT IN WHICH COLLEGE.\")\n",
        "print(response.text)"
      ]
    }
  ],
  "metadata": {
    "colab": {
      "name": "quickstart_colab.ipynb",
      "provenance": []
    },
    "kernelspec": {
      "display_name": "Python 3",
      "name": "python3"
    }
  },
  "nbformat": 4,
  "nbformat_minor": 0
}